{
 "cells": [
  {
   "cell_type": "code",
   "execution_count": null,
   "metadata": {},
   "outputs": [],
   "source": [
    "import requests\n",
    "import time\n",
    "from datetime import datetime"
   ]
  },
  {
   "cell_type": "code",
   "execution_count": null,
   "metadata": {},
   "outputs": [],
   "source": [
    "url = 'http://127.0.0.1:5000/messages'\n",
    "after_timestamp = 0"
   ]
  },
  {
   "cell_type": "code",
   "execution_count": null,
   "metadata": {},
   "outputs": [],
   "source": [
    "def pretty_print(message):\n",
    "    '''\n",
    "    2020/09/08 10:00:23 Name\n",
    "    Text\n",
    "    \n",
    "    '''\n",
    "    dt = datetime.fromtimestamp(message['timestamp'])\n",
    "    dt = dt.strftime('%Y/%m/%d %H:%M:%S')\n",
    "    first_line = dt + '  ' + message['name']\n",
    "    print(first_line)\n",
    "    print(message['text'])\n",
    "    print()"
   ]
  },
  {
   "cell_type": "code",
   "execution_count": null,
   "metadata": {
    "scrolled": true
   },
   "outputs": [],
   "source": [
    "while True:\n",
    "    response = requests.get(url, params={'after_timestamp': after_timestamp})\n",
    "    messages = response.json()['messages']\n",
    "    for message in messages:\n",
    "        pretty_print(message)\n",
    "        after_timestamp = message['timestamp']\n",
    "    if not messages:\n",
    "        time.sleep(1)"
   ]
  }
 ],
 "metadata": {
  "kernelspec": {
   "display_name": "Python 3",
   "language": "python",
   "name": "python3"
  },
  "language_info": {
   "codemirror_mode": {
    "name": "ipython",
    "version": 3
   },
   "file_extension": ".py",
   "mimetype": "text/x-python",
   "name": "python",
   "nbconvert_exporter": "python",
   "pygments_lexer": "ipython3",
   "version": "3.7.6"
  }
 },
 "nbformat": 4,
 "nbformat_minor": 4
}
