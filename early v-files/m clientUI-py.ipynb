{
 "cells": [
  {
   "cell_type": "markdown",
   "metadata": {},
   "source": [
    "## converting ui-file to py-file"
   ]
  },
  {
   "cell_type": "code",
   "execution_count": null,
   "metadata": {},
   "outputs": [],
   "source": [
    "import PyQt5"
   ]
  },
  {
   "cell_type": "code",
   "execution_count": null,
   "metadata": {},
   "outputs": [],
   "source": [
    "import sys\n",
    "!{sys.executable} -m PyQt5.uic.pyuic -x messanger.ui -o clientui.py"
   ]
  },
  {
   "cell_type": "markdown",
   "metadata": {},
   "source": [
    "## Trash (testing)"
   ]
  },
  {
   "cell_type": "code",
   "execution_count": null,
   "metadata": {},
   "outputs": [],
   "source": [
    "st = {\n",
    "        'Status' : True,\n",
    "        'Name' : 'Messenger',\n",
    "        #'Time' : dn.strftime('%d.%m.%Y %H:%M:%S')\n",
    "}\n",
    "info =''\n",
    "for (key, value) in st.items():\n",
    "    info = info + str(key) + '\\t' + str(value) + '<br>'\n",
    "print(info)"
   ]
  },
  {
   "cell_type": "code",
   "execution_count": null,
   "metadata": {},
   "outputs": [],
   "source": [
    "try:\n",
    "    import flask\n",
    "except:\n",
    "    print('Exception: installing Flask library\\n')\n",
    "    import sys\n",
    "    !{sys.executable} -m pip install flask\n",
    "    import flask"
   ]
  },
  {
   "cell_type": "code",
   "execution_count": null,
   "metadata": {},
   "outputs": [],
   "source": [
    "import time"
   ]
  },
  {
   "cell_type": "code",
   "execution_count": null,
   "metadata": {},
   "outputs": [],
   "source": [
    "class Messenger:\n",
    "    db = []\n",
    "    requested_count = 0\n",
    "    \n",
    "    def send_message(self, name, text):\n",
    "        timestamp = time.asctime()\n",
    "        self.db.append({\n",
    "            'name' : name,\n",
    "            'text' : text,\n",
    "            'timestamp' : timestamp\n",
    "        })\n",
    "    \n",
    "    def get_message(self):\n",
    "        return self.db\n",
    "    \n",
    "    def get_new_messages(self):\n",
    "        new_messages = self.db[self.requested_count:]\n",
    "        self.requested_count += len(new_messages)\n",
    "        return new_messages"
   ]
  },
  {
   "cell_type": "code",
   "execution_count": null,
   "metadata": {},
   "outputs": [],
   "source": [
    "messenger = Messenger()\n",
    "messenger.send_message('jack','abc')\n",
    "messenger.send_message('jack','abcd')\n",
    "print('All:', messenger.get_message())\n",
    "print('New:', messenger.get_new_messages())\n",
    "print()\n",
    "\n",
    "messenger.send_message('black','Hello1')\n",
    "messenger.send_message('black','Hello2')\n",
    "#print(messenger.get_message())\n",
    "print('New:', messenger.get_new_messages())\n",
    "print()"
   ]
  }
 ],
 "metadata": {
  "kernelspec": {
   "display_name": "Python 3",
   "language": "python",
   "name": "python3"
  },
  "language_info": {
   "codemirror_mode": {
    "name": "ipython",
    "version": 3
   },
   "file_extension": ".py",
   "mimetype": "text/x-python",
   "name": "python",
   "nbconvert_exporter": "python",
   "pygments_lexer": "ipython3",
   "version": "3.7.6"
  }
 },
 "nbformat": 4,
 "nbformat_minor": 4
}
