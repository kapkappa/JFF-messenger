{
 "cells": [
  {
   "cell_type": "code",
   "execution_count": 4,
   "metadata": {},
   "outputs": [],
   "source": [
    "try:\n",
    "    import flask\n",
    "except:\n",
    "    print('Exception: installing Flask library\\n')\n",
    "    import sys\n",
    "    !{sys.executable} -m pip install flask\n",
    "    import flask"
   ]
  },
  {
   "cell_type": "code",
   "execution_count": 5,
   "metadata": {},
   "outputs": [],
   "source": [
    "import time"
   ]
  },
  {
   "cell_type": "code",
   "execution_count": 6,
   "metadata": {},
   "outputs": [],
   "source": [
    "class Messenger:\n",
    "    db = []\n",
    "    requested_count = 0\n",
    "    \n",
    "    def send_message(self, name, text):\n",
    "        timestamp = time.asctime()\n",
    "        self.db.append({\n",
    "            'name' : name,\n",
    "            'text' : text,\n",
    "            'timestamp' : timestamp\n",
    "        })\n",
    "    \n",
    "    def get_message(self):\n",
    "        return self.db\n",
    "    \n",
    "    def get_new_messages(self):\n",
    "        new_messages = self.db[self.requested_count:]\n",
    "        self.requested_count += len(new_messages)\n",
    "        return new_messages"
   ]
  },
  {
   "cell_type": "code",
   "execution_count": 7,
   "metadata": {},
   "outputs": [
    {
     "name": "stdout",
     "output_type": "stream",
     "text": [
      "All: [{'name': 'jack', 'text': 'abc', 'timestamp': 'Mon Sep  7 20:42:52 2020'}, {'name': 'jack', 'text': 'abcd', 'timestamp': 'Mon Sep  7 20:42:52 2020'}]\n",
      "New: [{'name': 'jack', 'text': 'abc', 'timestamp': 'Mon Sep  7 20:42:52 2020'}, {'name': 'jack', 'text': 'abcd', 'timestamp': 'Mon Sep  7 20:42:52 2020'}]\n",
      "\n",
      "New: [{'name': 'black', 'text': 'Hello1', 'timestamp': 'Mon Sep  7 20:42:52 2020'}, {'name': 'black', 'text': 'Hello2', 'timestamp': 'Mon Sep  7 20:42:52 2020'}]\n",
      "\n"
     ]
    }
   ],
   "source": [
    "messenger = Messenger()\n",
    "messenger.send_message('jack','abc')\n",
    "messenger.send_message('jack','abcd')\n",
    "print('All:', messenger.get_message())\n",
    "print('New:', messenger.get_new_messages())\n",
    "print()\n",
    "\n",
    "messenger.send_message('black','Hello1')\n",
    "messenger.send_message('black','Hello2')\n",
    "#print(messenger.get_message())\n",
    "print('New:', messenger.get_new_messages())\n",
    "print()"
   ]
  }
 ],
 "metadata": {
  "kernelspec": {
   "display_name": "Python 3",
   "language": "python",
   "name": "python3"
  },
  "language_info": {
   "codemirror_mode": {
    "name": "ipython",
    "version": 3
   },
   "file_extension": ".py",
   "mimetype": "text/x-python",
   "name": "python",
   "nbconvert_exporter": "python",
   "pygments_lexer": "ipython3",
   "version": "3.7.6"
  }
 },
 "nbformat": 4,
 "nbformat_minor": 4
}
